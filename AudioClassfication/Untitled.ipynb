{
 "cells": [
  {
   "cell_type": "code",
   "execution_count": 6,
   "id": "e08628cb",
   "metadata": {},
   "outputs": [],
   "source": [
    "ds_fac = np.prod(np.array(ds_factor)) * 4"
   ]
  },
  {
   "cell_type": "code",
   "execution_count": 2,
   "id": "90191478",
   "metadata": {},
   "outputs": [],
   "source": [
    "import numpy as np"
   ]
  },
  {
   "cell_type": "code",
   "execution_count": 4,
   "id": "cf2a5605",
   "metadata": {},
   "outputs": [],
   "source": [
    "ds_factor=[4,4,4]"
   ]
  },
  {
   "cell_type": "code",
   "execution_count": 7,
   "id": "e54a94a8",
   "metadata": {},
   "outputs": [
    {
     "data": {
      "text/plain": [
       "256"
      ]
     },
     "execution_count": 7,
     "metadata": {},
     "output_type": "execute_result"
    }
   ],
   "source": [
    "ds_fac"
   ]
  },
  {
   "cell_type": "code",
   "execution_count": 8,
   "id": "286c10c3",
   "metadata": {},
   "outputs": [
    {
     "data": {
      "text/plain": [
       "64"
      ]
     },
     "execution_count": 8,
     "metadata": {},
     "output_type": "execute_result"
    }
   ],
   "source": [
    "np.prod(np.array(ds_factor))"
   ]
  },
  {
   "cell_type": "code",
   "execution_count": 9,
   "id": "8181beb9",
   "metadata": {},
   "outputs": [
    {
     "data": {
      "text/plain": [
       "array([4, 4, 4])"
      ]
     },
     "execution_count": 9,
     "metadata": {},
     "output_type": "execute_result"
    }
   ],
   "source": [
    "np.array(ds_factor)"
   ]
  },
  {
   "cell_type": "code",
   "execution_count": null,
   "id": "96a0b6bf",
   "metadata": {},
   "outputs": [],
   "source": []
  }
 ],
 "metadata": {
  "kernelspec": {
   "display_name": "Python 3 (ipykernel)",
   "language": "python",
   "name": "python3"
  },
  "language_info": {
   "codemirror_mode": {
    "name": "ipython",
    "version": 3
   },
   "file_extension": ".py",
   "mimetype": "text/x-python",
   "name": "python",
   "nbconvert_exporter": "python",
   "pygments_lexer": "ipython3",
   "version": "3.10.6"
  }
 },
 "nbformat": 4,
 "nbformat_minor": 5
}
